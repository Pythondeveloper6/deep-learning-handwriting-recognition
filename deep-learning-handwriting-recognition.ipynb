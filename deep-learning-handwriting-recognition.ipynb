{
 "cells": [
  {
   "cell_type": "markdown",
   "id": "f15d176f",
   "metadata": {
    "papermill": {
     "duration": 0.006924,
     "end_time": "2023-02-11T08:47:06.919290",
     "exception": false,
     "start_time": "2023-02-11T08:47:06.912366",
     "status": "completed"
    },
    "tags": []
   },
   "source": [
    "### simple neural nrwtoork to recognize numbers "
   ]
  },
  {
   "cell_type": "code",
   "execution_count": 1,
   "id": "51f6c9b6",
   "metadata": {
    "execution": {
     "iopub.execute_input": "2023-02-11T08:47:06.933571Z",
     "iopub.status.busy": "2023-02-11T08:47:06.933124Z",
     "iopub.status.idle": "2023-02-11T08:47:06.939048Z",
     "shell.execute_reply": "2023-02-11T08:47:06.938053Z"
    },
    "papermill": {
     "duration": 0.015346,
     "end_time": "2023-02-11T08:47:06.940828",
     "exception": false,
     "start_time": "2023-02-11T08:47:06.925482",
     "status": "completed"
    },
    "tags": []
   },
   "outputs": [],
   "source": [
    "# first install tensorflow \n",
    "#import sys\n",
    "#!{sys.executable} -m pip install tensorflow"
   ]
  },
  {
   "cell_type": "markdown",
   "id": "ec0c804e",
   "metadata": {
    "papermill": {
     "duration": 0.005973,
     "end_time": "2023-02-11T08:47:06.953297",
     "exception": false,
     "start_time": "2023-02-11T08:47:06.947324",
     "status": "completed"
    },
    "tags": []
   },
   "source": [
    "## Outline \n",
    "- import keras numbers dataset \n",
    "- Split Data\n",
    "- Sclaing\n",
    "- build Nueral Model \n",
    "- Build Layers \n",
    "- fit model \n",
    "- evaluate\n",
    "- test model \n",
    "- save model \n",
    "- load \n",
    "- predict "
   ]
  },
  {
   "cell_type": "markdown",
   "id": "80e5605d",
   "metadata": {
    "papermill": {
     "duration": 0.005891,
     "end_time": "2023-02-11T08:47:06.965750",
     "exception": false,
     "start_time": "2023-02-11T08:47:06.959859",
     "status": "completed"
    },
    "tags": []
   },
   "source": [
    "## import libraries  "
   ]
  },
  {
   "cell_type": "code",
   "execution_count": 2,
   "id": "187ca2fe",
   "metadata": {
    "execution": {
     "iopub.execute_input": "2023-02-11T08:47:06.980428Z",
     "iopub.status.busy": "2023-02-11T08:47:06.979807Z",
     "iopub.status.idle": "2023-02-11T08:47:11.370193Z",
     "shell.execute_reply": "2023-02-11T08:47:11.369082Z"
    },
    "papermill": {
     "duration": 4.400648,
     "end_time": "2023-02-11T08:47:11.372566",
     "exception": false,
     "start_time": "2023-02-11T08:47:06.971918",
     "status": "completed"
    },
    "tags": []
   },
   "outputs": [],
   "source": [
    "import numpy as np\n",
    "import tensorflow as tf \n",
    "import matplotlib.pyplot as plt"
   ]
  },
  {
   "cell_type": "markdown",
   "id": "39d8b08e",
   "metadata": {
    "papermill": {
     "duration": 0.005773,
     "end_time": "2023-02-11T08:47:11.384848",
     "exception": false,
     "start_time": "2023-02-11T08:47:11.379075",
     "status": "completed"
    },
    "tags": []
   },
   "source": [
    "## import dataset "
   ]
  },
  {
   "cell_type": "code",
   "execution_count": 3,
   "id": "fec6857b",
   "metadata": {
    "execution": {
     "iopub.execute_input": "2023-02-11T08:47:11.398560Z",
     "iopub.status.busy": "2023-02-11T08:47:11.397982Z",
     "iopub.status.idle": "2023-02-11T08:47:12.211805Z",
     "shell.execute_reply": "2023-02-11T08:47:12.210773Z"
    },
    "papermill": {
     "duration": 0.823176,
     "end_time": "2023-02-11T08:47:12.214014",
     "exception": false,
     "start_time": "2023-02-11T08:47:11.390838",
     "status": "completed"
    },
    "tags": []
   },
   "outputs": [],
   "source": [
    "minst = tf.keras.datasets.mnist "
   ]
  },
  {
   "cell_type": "markdown",
   "id": "159765fb",
   "metadata": {
    "papermill": {
     "duration": 0.008226,
     "end_time": "2023-02-11T08:47:12.230387",
     "exception": false,
     "start_time": "2023-02-11T08:47:12.222161",
     "status": "completed"
    },
    "tags": []
   },
   "source": [
    "- the dataset contains 28x28 pixel images for numbers from 0 to 9"
   ]
  },
  {
   "cell_type": "markdown",
   "id": "c7d6bcf5",
   "metadata": {
    "papermill": {
     "duration": 0.007259,
     "end_time": "2023-02-11T08:47:12.245364",
     "exception": false,
     "start_time": "2023-02-11T08:47:12.238105",
     "status": "completed"
    },
    "tags": []
   },
   "source": [
    "## Split the data "
   ]
  },
  {
   "cell_type": "code",
   "execution_count": 4,
   "id": "8fff1e9a",
   "metadata": {
    "execution": {
     "iopub.execute_input": "2023-02-11T08:47:12.263992Z",
     "iopub.status.busy": "2023-02-11T08:47:12.263631Z",
     "iopub.status.idle": "2023-02-11T08:47:13.901454Z",
     "shell.execute_reply": "2023-02-11T08:47:13.900670Z"
    },
    "papermill": {
     "duration": 1.650665,
     "end_time": "2023-02-11T08:47:13.904394",
     "exception": false,
     "start_time": "2023-02-11T08:47:12.253729",
     "status": "completed"
    },
    "tags": []
   },
   "outputs": [
    {
     "name": "stdout",
     "output_type": "stream",
     "text": [
      "Downloading data from https://storage.googleapis.com/tensorflow/tf-keras-datasets/mnist.npz\n",
      "11493376/11490434 [==============================] - 1s 0us/step\n",
      "11501568/11490434 [==============================] - 1s 0us/step\n"
     ]
    }
   ],
   "source": [
    "(x_train , y_train) , (x_test,y_test) = minst.load_data()"
   ]
  },
  {
   "cell_type": "code",
   "execution_count": 5,
   "id": "bfb7cc92",
   "metadata": {
    "execution": {
     "iopub.execute_input": "2023-02-11T08:47:13.921670Z",
     "iopub.status.busy": "2023-02-11T08:47:13.920570Z",
     "iopub.status.idle": "2023-02-11T08:47:13.931425Z",
     "shell.execute_reply": "2023-02-11T08:47:13.930782Z"
    },
    "papermill": {
     "duration": 0.021345,
     "end_time": "2023-02-11T08:47:13.933470",
     "exception": false,
     "start_time": "2023-02-11T08:47:13.912125",
     "status": "completed"
    },
    "tags": []
   },
   "outputs": [
    {
     "data": {
      "text/plain": [
       "array([[  0,   0,   0,   0,   0,   0,   0,   0,   0,   0,   0,   0,   0,\n",
       "          0,   0,   0,   0,   0,   0,   0,   0,   0,   0,   0,   0,   0,\n",
       "          0,   0],\n",
       "       [  0,   0,   0,   0,   0,   0,   0,   0,   0,   0,   0,   0,   0,\n",
       "          0,   0,   0,   0,   0,   0,   0,   0,   0,   0,   0,   0,   0,\n",
       "          0,   0],\n",
       "       [  0,   0,   0,   0,   0,   0,   0,   0,   0,   0,   0,   0,   0,\n",
       "          0,   0,   0,   0,   0,   0,   0,   0,   0,   0,   0,   0,   0,\n",
       "          0,   0],\n",
       "       [  0,   0,   0,   0,   0,   0,   0,   0,   0,   0,   0,   0,   0,\n",
       "          0,   0,   0,   0,   0,   0,   0,   0,   0,   0,   0,   0,   0,\n",
       "          0,   0],\n",
       "       [  0,   0,   0,   0,   0,   0,   0,   0,   0,   0,   0,   0,   0,\n",
       "          0,   0,   0,   0,   0,   0,   0,   0,   0,   0,   0,   0,   0,\n",
       "          0,   0],\n",
       "       [  0,   0,   0,   0,   0,   0,   0,   0,   0,   0,   0,   0,   3,\n",
       "         18,  18,  18, 126, 136, 175,  26, 166, 255, 247, 127,   0,   0,\n",
       "          0,   0],\n",
       "       [  0,   0,   0,   0,   0,   0,   0,   0,  30,  36,  94, 154, 170,\n",
       "        253, 253, 253, 253, 253, 225, 172, 253, 242, 195,  64,   0,   0,\n",
       "          0,   0],\n",
       "       [  0,   0,   0,   0,   0,   0,   0,  49, 238, 253, 253, 253, 253,\n",
       "        253, 253, 253, 253, 251,  93,  82,  82,  56,  39,   0,   0,   0,\n",
       "          0,   0],\n",
       "       [  0,   0,   0,   0,   0,   0,   0,  18, 219, 253, 253, 253, 253,\n",
       "        253, 198, 182, 247, 241,   0,   0,   0,   0,   0,   0,   0,   0,\n",
       "          0,   0],\n",
       "       [  0,   0,   0,   0,   0,   0,   0,   0,  80, 156, 107, 253, 253,\n",
       "        205,  11,   0,  43, 154,   0,   0,   0,   0,   0,   0,   0,   0,\n",
       "          0,   0],\n",
       "       [  0,   0,   0,   0,   0,   0,   0,   0,   0,  14,   1, 154, 253,\n",
       "         90,   0,   0,   0,   0,   0,   0,   0,   0,   0,   0,   0,   0,\n",
       "          0,   0],\n",
       "       [  0,   0,   0,   0,   0,   0,   0,   0,   0,   0,   0, 139, 253,\n",
       "        190,   2,   0,   0,   0,   0,   0,   0,   0,   0,   0,   0,   0,\n",
       "          0,   0],\n",
       "       [  0,   0,   0,   0,   0,   0,   0,   0,   0,   0,   0,  11, 190,\n",
       "        253,  70,   0,   0,   0,   0,   0,   0,   0,   0,   0,   0,   0,\n",
       "          0,   0],\n",
       "       [  0,   0,   0,   0,   0,   0,   0,   0,   0,   0,   0,   0,  35,\n",
       "        241, 225, 160, 108,   1,   0,   0,   0,   0,   0,   0,   0,   0,\n",
       "          0,   0],\n",
       "       [  0,   0,   0,   0,   0,   0,   0,   0,   0,   0,   0,   0,   0,\n",
       "         81, 240, 253, 253, 119,  25,   0,   0,   0,   0,   0,   0,   0,\n",
       "          0,   0],\n",
       "       [  0,   0,   0,   0,   0,   0,   0,   0,   0,   0,   0,   0,   0,\n",
       "          0,  45, 186, 253, 253, 150,  27,   0,   0,   0,   0,   0,   0,\n",
       "          0,   0],\n",
       "       [  0,   0,   0,   0,   0,   0,   0,   0,   0,   0,   0,   0,   0,\n",
       "          0,   0,  16,  93, 252, 253, 187,   0,   0,   0,   0,   0,   0,\n",
       "          0,   0],\n",
       "       [  0,   0,   0,   0,   0,   0,   0,   0,   0,   0,   0,   0,   0,\n",
       "          0,   0,   0,   0, 249, 253, 249,  64,   0,   0,   0,   0,   0,\n",
       "          0,   0],\n",
       "       [  0,   0,   0,   0,   0,   0,   0,   0,   0,   0,   0,   0,   0,\n",
       "          0,  46, 130, 183, 253, 253, 207,   2,   0,   0,   0,   0,   0,\n",
       "          0,   0],\n",
       "       [  0,   0,   0,   0,   0,   0,   0,   0,   0,   0,   0,   0,  39,\n",
       "        148, 229, 253, 253, 253, 250, 182,   0,   0,   0,   0,   0,   0,\n",
       "          0,   0],\n",
       "       [  0,   0,   0,   0,   0,   0,   0,   0,   0,   0,  24, 114, 221,\n",
       "        253, 253, 253, 253, 201,  78,   0,   0,   0,   0,   0,   0,   0,\n",
       "          0,   0],\n",
       "       [  0,   0,   0,   0,   0,   0,   0,   0,  23,  66, 213, 253, 253,\n",
       "        253, 253, 198,  81,   2,   0,   0,   0,   0,   0,   0,   0,   0,\n",
       "          0,   0],\n",
       "       [  0,   0,   0,   0,   0,   0,  18, 171, 219, 253, 253, 253, 253,\n",
       "        195,  80,   9,   0,   0,   0,   0,   0,   0,   0,   0,   0,   0,\n",
       "          0,   0],\n",
       "       [  0,   0,   0,   0,  55, 172, 226, 253, 253, 253, 253, 244, 133,\n",
       "         11,   0,   0,   0,   0,   0,   0,   0,   0,   0,   0,   0,   0,\n",
       "          0,   0],\n",
       "       [  0,   0,   0,   0, 136, 253, 253, 253, 212, 135, 132,  16,   0,\n",
       "          0,   0,   0,   0,   0,   0,   0,   0,   0,   0,   0,   0,   0,\n",
       "          0,   0],\n",
       "       [  0,   0,   0,   0,   0,   0,   0,   0,   0,   0,   0,   0,   0,\n",
       "          0,   0,   0,   0,   0,   0,   0,   0,   0,   0,   0,   0,   0,\n",
       "          0,   0],\n",
       "       [  0,   0,   0,   0,   0,   0,   0,   0,   0,   0,   0,   0,   0,\n",
       "          0,   0,   0,   0,   0,   0,   0,   0,   0,   0,   0,   0,   0,\n",
       "          0,   0],\n",
       "       [  0,   0,   0,   0,   0,   0,   0,   0,   0,   0,   0,   0,   0,\n",
       "          0,   0,   0,   0,   0,   0,   0,   0,   0,   0,   0,   0,   0,\n",
       "          0,   0]], dtype=uint8)"
      ]
     },
     "execution_count": 5,
     "metadata": {},
     "output_type": "execute_result"
    }
   ],
   "source": [
    "# see the train data\n",
    "x_train[0]"
   ]
  },
  {
   "cell_type": "code",
   "execution_count": 6,
   "id": "ba6cd213",
   "metadata": {
    "execution": {
     "iopub.execute_input": "2023-02-11T08:47:13.950066Z",
     "iopub.status.busy": "2023-02-11T08:47:13.949728Z",
     "iopub.status.idle": "2023-02-11T08:47:14.097704Z",
     "shell.execute_reply": "2023-02-11T08:47:14.097085Z"
    },
    "papermill": {
     "duration": 0.158336,
     "end_time": "2023-02-11T08:47:14.099446",
     "exception": false,
     "start_time": "2023-02-11T08:47:13.941110",
     "status": "completed"
    },
    "tags": []
   },
   "outputs": [
    {
     "data": {
      "image/png": "[encoded data removed]",
      "text/plain": [
       "<Figure size 432x288 with 1 Axes>"
      ]
     },
     "metadata": {
      "needs_background": "light"
     },
     "output_type": "display_data"
    }
   ],
   "source": [
    "# display one number \n",
    "plt.imshow(x_train[1])\n",
    "plt.show()"
   ]
  },
  {
   "cell_type": "code",
   "execution_count": 7,
   "id": "ee661453",
   "metadata": {
    "execution": {
     "iopub.execute_input": "2023-02-11T08:47:14.119669Z",
     "iopub.status.busy": "2023-02-11T08:47:14.119331Z",
     "iopub.status.idle": "2023-02-11T08:47:14.245519Z",
     "shell.execute_reply": "2023-02-11T08:47:14.244818Z"
    },
    "papermill": {
     "duration": 0.136765,
     "end_time": "2023-02-11T08:47:14.247652",
     "exception": false,
     "start_time": "2023-02-11T08:47:14.110887",
     "status": "completed"
    },
    "tags": []
   },
   "outputs": [
    {
     "data": {
      "image/png": "[encoded data removed]",
      "text/plain": [
       "<Figure size 432x288 with 1 Axes>"
      ]
     },
     "metadata": {
      "needs_background": "light"
     },
     "output_type": "display_data"
    }
   ],
   "source": [
    "# display the same image in black & white colors \n",
    "plt.imshow(x_train[1] , cmap=plt.cm.binary)\n",
    "plt.show()"
   ]
  },
  {
   "cell_type": "markdown",
   "id": "6cf88cd7",
   "metadata": {
    "papermill": {
     "duration": 0.008188,
     "end_time": "2023-02-11T08:47:14.266214",
     "exception": false,
     "start_time": "2023-02-11T08:47:14.258026",
     "status": "completed"
    },
    "tags": []
   },
   "source": [
    "## Scalling "
   ]
  },
  {
   "cell_type": "code",
   "execution_count": 8,
   "id": "c7010770",
   "metadata": {
    "execution": {
     "iopub.execute_input": "2023-02-11T08:47:14.283299Z",
     "iopub.status.busy": "2023-02-11T08:47:14.282986Z",
     "iopub.status.idle": "2023-02-11T08:47:14.618481Z",
     "shell.execute_reply": "2023-02-11T08:47:14.617282Z"
    },
    "papermill": {
     "duration": 0.347121,
     "end_time": "2023-02-11T08:47:14.621123",
     "exception": false,
     "start_time": "2023-02-11T08:47:14.274002",
     "status": "completed"
    },
    "tags": []
   },
   "outputs": [],
   "source": [
    "x_train = tf.keras.utils.normalize(x_train , axis=1)\n",
    "x_test = tf.keras.utils.normalize(x_test , axis=1)"
   ]
  },
  {
   "cell_type": "code",
   "execution_count": 9,
   "id": "5c82ea3e",
   "metadata": {
    "execution": {
     "iopub.execute_input": "2023-02-11T08:47:14.637913Z",
     "iopub.status.busy": "2023-02-11T08:47:14.637600Z",
     "iopub.status.idle": "2023-02-11T08:47:14.812274Z",
     "shell.execute_reply": "2023-02-11T08:47:14.811128Z"
    },
    "papermill": {
     "duration": 0.185194,
     "end_time": "2023-02-11T08:47:14.814322",
     "exception": false,
     "start_time": "2023-02-11T08:47:14.629128",
     "status": "completed"
    },
    "tags": []
   },
   "outputs": [
    {
     "data": {
      "text/plain": [
       "array([[0.        , 0.        , 0.        , 0.        , 0.        ,\n",
       "        0.        , 0.        , 0.        , 0.        , 0.        ,\n",
       "        0.        , 0.        , 0.        , 0.        , 0.        ,\n",
       "        0.        , 0.        , 0.        , 0.        , 0.        ,\n",
       "        0.        , 0.        , 0.        , 0.        , 0.        ,\n",
       "        0.        , 0.        , 0.        ],\n",
       "       [0.        , 0.        , 0.        , 0.        , 0.        ,\n",
       "        0.        , 0.        , 0.        , 0.        , 0.        ,\n",
       "        0.        , 0.        , 0.        , 0.        , 0.        ,\n",
       "        0.        , 0.        , 0.        , 0.        , 0.        ,\n",
       "        0.        , 0.        , 0.        , 0.        , 0.        ,\n",
       "        0.        , 0.        , 0.        ],\n",
       "       [0.        , 0.        , 0.        , 0.        , 0.        ,\n",
       "        0.        , 0.        , 0.        , 0.        , 0.        ,\n",
       "        0.        , 0.        , 0.        , 0.        , 0.        ,\n",
       "        0.        , 0.        , 0.        , 0.        , 0.        ,\n",
       "        0.        , 0.        , 0.        , 0.        , 0.        ,\n",
       "        0.        , 0.        , 0.        ],\n",
       "       [0.        , 0.        , 0.        , 0.        , 0.        ,\n",
       "        0.        , 0.        , 0.        , 0.        , 0.        ,\n",
       "        0.        , 0.        , 0.        , 0.        , 0.        ,\n",
       "        0.        , 0.        , 0.        , 0.        , 0.        ,\n",
       "        0.        , 0.        , 0.        , 0.        , 0.        ,\n",
       "        0.        , 0.        , 0.        ],\n",
       "       [0.        , 0.        , 0.        , 0.        , 0.        ,\n",
       "        0.        , 0.        , 0.        , 0.        , 0.        ,\n",
       "        0.        , 0.        , 0.        , 0.        , 0.        ,\n",
       "        0.        , 0.        , 0.        , 0.        , 0.        ,\n",
       "        0.        , 0.        , 0.        , 0.        , 0.        ,\n",
       "        0.        , 0.        , 0.        ],\n",
       "       [0.        , 0.        , 0.        , 0.        , 0.        ,\n",
       "        0.        , 0.        , 0.        , 0.        , 0.        ,\n",
       "        0.        , 0.        , 0.00393124, 0.02332955, 0.02620568,\n",
       "        0.02625207, 0.17420356, 0.17566281, 0.28629534, 0.05664824,\n",
       "        0.51877786, 0.71632322, 0.77892406, 0.89301644, 0.        ,\n",
       "        0.        , 0.        , 0.        ],\n",
       "       [0.        , 0.        , 0.        , 0.        , 0.        ,\n",
       "        0.        , 0.        , 0.        , 0.05780486, 0.06524513,\n",
       "        0.16128198, 0.22713296, 0.22277047, 0.32790981, 0.36833534,\n",
       "        0.3689874 , 0.34978968, 0.32678448, 0.368094  , 0.3747499 ,\n",
       "        0.79066747, 0.67980478, 0.61494005, 0.45002403, 0.        ,\n",
       "        0.        , 0.        , 0.        ],\n",
       "       [0.        , 0.        , 0.        , 0.        , 0.        ,\n",
       "        0.        , 0.        , 0.12250613, 0.45858525, 0.45852825,\n",
       "        0.43408872, 0.37314701, 0.33153488, 0.32790981, 0.36833534,\n",
       "        0.3689874 , 0.34978968, 0.32420121, 0.15214552, 0.17865984,\n",
       "        0.25626376, 0.1573102 , 0.12298801, 0.        , 0.        ,\n",
       "        0.        , 0.        , 0.        ],\n",
       "       [0.        , 0.        , 0.        , 0.        , 0.        ,\n",
       "        0.        , 0.        , 0.04500225, 0.4219755 , 0.45852825,\n",
       "        0.43408872, 0.37314701, 0.33153488, 0.32790981, 0.28826244,\n",
       "        0.26543758, 0.34149427, 0.31128482, 0.        , 0.        ,\n",
       "        0.        , 0.        , 0.        , 0.        , 0.        ,\n",
       "        0.        , 0.        , 0.        ],\n",
       "       [0.        , 0.        , 0.        , 0.        , 0.        ,\n",
       "        0.        , 0.        , 0.        , 0.1541463 , 0.28272888,\n",
       "        0.18358693, 0.37314701, 0.33153488, 0.26569767, 0.01601458,\n",
       "        0.        , 0.05945042, 0.19891229, 0.        , 0.        ,\n",
       "        0.        , 0.        , 0.        , 0.        , 0.        ,\n",
       "        0.        , 0.        , 0.        ],\n",
       "       [0.        , 0.        , 0.        , 0.        , 0.        ,\n",
       "        0.        , 0.        , 0.        , 0.        , 0.0253731 ,\n",
       "        0.00171577, 0.22713296, 0.33153488, 0.11664776, 0.        ,\n",
       "        0.        , 0.        , 0.        , 0.        , 0.        ,\n",
       "        0.        , 0.        , 0.        , 0.        , 0.        ,\n",
       "        0.        , 0.        , 0.        ],\n",
       "       [0.        , 0.        , 0.        , 0.        , 0.        ,\n",
       "        0.        , 0.        , 0.        , 0.        , 0.        ,\n",
       "        0.        , 0.20500962, 0.33153488, 0.24625638, 0.00291174,\n",
       "        0.        , 0.        , 0.        , 0.        , 0.        ,\n",
       "        0.        , 0.        , 0.        , 0.        , 0.        ,\n",
       "        0.        , 0.        , 0.        ],\n",
       "       [0.        , 0.        , 0.        , 0.        , 0.        ,\n",
       "        0.        , 0.        , 0.        , 0.        , 0.        ,\n",
       "        0.        , 0.01622378, 0.24897876, 0.32790981, 0.10191096,\n",
       "        0.        , 0.        , 0.        , 0.        , 0.        ,\n",
       "        0.        , 0.        , 0.        , 0.        , 0.        ,\n",
       "        0.        , 0.        , 0.        ],\n",
       "       [0.        , 0.        , 0.        , 0.        , 0.        ,\n",
       "        0.        , 0.        , 0.        , 0.        , 0.        ,\n",
       "        0.        , 0.        , 0.04586451, 0.31235677, 0.32757096,\n",
       "        0.23335172, 0.14931733, 0.00129164, 0.        , 0.        ,\n",
       "        0.        , 0.        , 0.        , 0.        , 0.        ,\n",
       "        0.        , 0.        , 0.        ],\n",
       "       [0.        , 0.        , 0.        , 0.        , 0.        ,\n",
       "        0.        , 0.        , 0.        , 0.        , 0.        ,\n",
       "        0.        , 0.        , 0.        , 0.10498298, 0.34940902,\n",
       "        0.3689874 , 0.34978968, 0.15370495, 0.04089933, 0.        ,\n",
       "        0.        , 0.        , 0.        , 0.        , 0.        ,\n",
       "        0.        , 0.        , 0.        ],\n",
       "       [0.        , 0.        , 0.        , 0.        , 0.        ,\n",
       "        0.        , 0.        , 0.        , 0.        , 0.        ,\n",
       "        0.        , 0.        , 0.        , 0.        , 0.06551419,\n",
       "        0.27127137, 0.34978968, 0.32678448, 0.245396  , 0.05882702,\n",
       "        0.        , 0.        , 0.        , 0.        , 0.        ,\n",
       "        0.        , 0.        , 0.        ],\n",
       "       [0.        , 0.        , 0.        , 0.        , 0.        ,\n",
       "        0.        , 0.        , 0.        , 0.        , 0.        ,\n",
       "        0.        , 0.        , 0.        , 0.        , 0.        ,\n",
       "        0.02333517, 0.12857881, 0.32549285, 0.41390126, 0.40743158,\n",
       "        0.        , 0.        , 0.        , 0.        , 0.        ,\n",
       "        0.        , 0.        , 0.        ],\n",
       "       [0.        , 0.        , 0.        , 0.        , 0.        ,\n",
       "        0.        , 0.        , 0.        , 0.        , 0.        ,\n",
       "        0.        , 0.        , 0.        , 0.        , 0.        ,\n",
       "        0.        , 0.        , 0.32161793, 0.41390126, 0.54251585,\n",
       "        0.20001074, 0.        , 0.        , 0.        , 0.        ,\n",
       "        0.        , 0.        , 0.        ],\n",
       "       [0.        , 0.        , 0.        , 0.        , 0.        ,\n",
       "        0.        , 0.        , 0.        , 0.        , 0.        ,\n",
       "        0.        , 0.        , 0.        , 0.        , 0.06697006,\n",
       "        0.18959827, 0.25300993, 0.32678448, 0.41390126, 0.45100715,\n",
       "        0.00625034, 0.        , 0.        , 0.        , 0.        ,\n",
       "        0.        , 0.        , 0.        ],\n",
       "       [0.        , 0.        , 0.        , 0.        , 0.        ,\n",
       "        0.        , 0.        , 0.        , 0.        , 0.        ,\n",
       "        0.        , 0.        , 0.05110617, 0.19182076, 0.33339444,\n",
       "        0.3689874 , 0.34978968, 0.32678448, 0.40899334, 0.39653769,\n",
       "        0.        , 0.        , 0.        , 0.        , 0.        ,\n",
       "        0.        , 0.        , 0.        ],\n",
       "       [0.        , 0.        , 0.        , 0.        , 0.        ,\n",
       "        0.        , 0.        , 0.        , 0.        , 0.        ,\n",
       "        0.04117838, 0.16813739, 0.28960162, 0.32790981, 0.36833534,\n",
       "        0.3689874 , 0.34978968, 0.25961929, 0.12760592, 0.        ,\n",
       "        0.        , 0.        , 0.        , 0.        , 0.        ,\n",
       "        0.        , 0.        , 0.        ],\n",
       "       [0.        , 0.        , 0.        , 0.        , 0.        ,\n",
       "        0.        , 0.        , 0.        , 0.04431706, 0.11961607,\n",
       "        0.36545809, 0.37314701, 0.33153488, 0.32790981, 0.36833534,\n",
       "        0.28877275, 0.111988  , 0.00258328, 0.        , 0.        ,\n",
       "        0.        , 0.        , 0.        , 0.        , 0.        ,\n",
       "        0.        , 0.        , 0.        ],\n",
       "       [0.        , 0.        , 0.        , 0.        , 0.        ,\n",
       "        0.        , 0.05298497, 0.42752138, 0.4219755 , 0.45852825,\n",
       "        0.43408872, 0.37314701, 0.33153488, 0.25273681, 0.11646967,\n",
       "        0.01312603, 0.        , 0.        , 0.        , 0.        ,\n",
       "        0.        , 0.        , 0.        , 0.        , 0.        ,\n",
       "        0.        , 0.        , 0.        ],\n",
       "       [0.        , 0.        , 0.        , 0.        , 0.37491383,\n",
       "        0.56222061, 0.66525569, 0.63253163, 0.48748768, 0.45852825,\n",
       "        0.43408872, 0.359873  , 0.17428513, 0.01425695, 0.        ,\n",
       "        0.        , 0.        , 0.        , 0.        , 0.        ,\n",
       "        0.        , 0.        , 0.        , 0.        , 0.        ,\n",
       "        0.        , 0.        , 0.        ],\n",
       "       [0.        , 0.        , 0.        , 0.        , 0.92705966,\n",
       "        0.82698729, 0.74473314, 0.63253163, 0.4084877 , 0.24466922,\n",
       "        0.22648107, 0.02359823, 0.        , 0.        , 0.        ,\n",
       "        0.        , 0.        , 0.        , 0.        , 0.        ,\n",
       "        0.        , 0.        , 0.        , 0.        , 0.        ,\n",
       "        0.        , 0.        , 0.        ],\n",
       "       [0.        , 0.        , 0.        , 0.        , 0.        ,\n",
       "        0.        , 0.        , 0.        , 0.        , 0.        ,\n",
       "        0.        , 0.        , 0.        , 0.        , 0.        ,\n",
       "        0.        , 0.        , 0.        , 0.        , 0.        ,\n",
       "        0.        , 0.        , 0.        , 0.        , 0.        ,\n",
       "        0.        , 0.        , 0.        ],\n",
       "       [0.        , 0.        , 0.        , 0.        , 0.        ,\n",
       "        0.        , 0.        , 0.        , 0.        , 0.        ,\n",
       "        0.        , 0.        , 0.        , 0.        , 0.        ,\n",
       "        0.        , 0.        , 0.        , 0.        , 0.        ,\n",
       "        0.        , 0.        , 0.        , 0.        , 0.        ,\n",
       "        0.        , 0.        , 0.        ],\n",
       "       [0.        , 0.        , 0.        , 0.        , 0.        ,\n",
       "        0.        , 0.        , 0.        , 0.        , 0.        ,\n",
       "        0.        , 0.        , 0.        , 0.        , 0.        ,\n",
       "        0.        , 0.        , 0.        , 0.        , 0.        ,\n",
       "        0.        , 0.        , 0.        , 0.        , 0.        ,\n",
       "        0.        , 0.        , 0.        ]])"
      ]
     },
     "execution_count": 9,
     "metadata": {},
     "output_type": "execute_result"
    }
   ],
   "source": [
    "# see the data after scalling \n",
    "x_train[0]"
   ]
  },
  {
   "cell_type": "code",
   "execution_count": 10,
   "id": "d1bffce0",
   "metadata": {
    "execution": {
     "iopub.execute_input": "2023-02-11T08:47:14.832425Z",
     "iopub.status.busy": "2023-02-11T08:47:14.832038Z",
     "iopub.status.idle": "2023-02-11T08:47:14.951457Z",
     "shell.execute_reply": "2023-02-11T08:47:14.950374Z"
    },
    "papermill": {
     "duration": 0.131524,
     "end_time": "2023-02-11T08:47:14.954075",
     "exception": false,
     "start_time": "2023-02-11T08:47:14.822551",
     "status": "completed"
    },
    "tags": []
   },
   "outputs": [
    {
     "data": {
      "image/png": "[encoded data removed]",
      "text/plain": [
       "<Figure size 432x288 with 1 Axes>"
      ]
     },
     "metadata": {
      "needs_background": "light"
     },
     "output_type": "display_data"
    }
   ],
   "source": [
    "# display the first image in black & white \n",
    "plt.imshow(x_train[1] , cmap=plt.cm.binary)\n",
    "plt.show()"
   ]
  },
  {
   "cell_type": "code",
   "execution_count": 11,
   "id": "b34db3bd",
   "metadata": {
    "execution": {
     "iopub.execute_input": "2023-02-11T08:47:14.975852Z",
     "iopub.status.busy": "2023-02-11T08:47:14.975477Z",
     "iopub.status.idle": "2023-02-11T08:47:14.980414Z",
     "shell.execute_reply": "2023-02-11T08:47:14.979826Z"
    },
    "papermill": {
     "duration": 0.017362,
     "end_time": "2023-02-11T08:47:14.982097",
     "exception": false,
     "start_time": "2023-02-11T08:47:14.964735",
     "status": "completed"
    },
    "tags": []
   },
   "outputs": [
    {
     "data": {
      "text/plain": [
       "(60000, 28, 28)"
      ]
     },
     "execution_count": 11,
     "metadata": {},
     "output_type": "execute_result"
    }
   ],
   "source": [
    "# see the train data shape \n",
    "x_train.shape"
   ]
  },
  {
   "cell_type": "code",
   "execution_count": 12,
   "id": "eb35b140",
   "metadata": {
    "execution": {
     "iopub.execute_input": "2023-02-11T08:47:15.001421Z",
     "iopub.status.busy": "2023-02-11T08:47:15.000962Z",
     "iopub.status.idle": "2023-02-11T08:47:16.137770Z",
     "shell.execute_reply": "2023-02-11T08:47:16.137052Z"
    },
    "papermill": {
     "duration": 1.14919,
     "end_time": "2023-02-11T08:47:16.139844",
     "exception": false,
     "start_time": "2023-02-11T08:47:14.990654",
     "status": "completed"
    },
    "tags": []
   },
   "outputs": [
    {
     "data": {
      "image/png": "[encoded data removed]",
      "text/plain": [
       "<Figure size 432x288 with 1 Axes>"
      ]
     },
     "metadata": {
      "needs_background": "light"
     },
     "output_type": "display_data"
    },
    {
     "data": {
      "image/png": "[encoded data removed]",
      "text/plain": [
       "<Figure size 432x288 with 1 Axes>"
      ]
     },
     "metadata": {
      "needs_background": "light"
     },
     "output_type": "display_data"
    },
    {
     "data": {
      "image/png": "[encoded data removed]",
      "text/plain": [
       "<Figure size 432x288 with 1 Axes>"
      ]
     },
     "metadata": {
      "needs_background": "light"
     },
     "output_type": "display_data"
    },
    {
     "data": {
      "image/png": "[encoded data removed]",
      "text/plain": [
       "<Figure size 432x288 with 1 Axes>"
      ]
     },
     "metadata": {
      "needs_background": "light"
     },
     "output_type": "display_data"
    },
    {
     "data": {
      "image/png": "[encoded data removed]",
      "text/plain": [
       "<Figure size 432x288 with 1 Axes>"
      ]
     },
     "metadata": {
      "needs_background": "light"
     },
     "output_type": "display_data"
    },
    {
     "data": {
      "image/png": "[encoded data removed]",
      "text/plain": [
       "<Figure size 432x288 with 1 Axes>"
      ]
     },
     "metadata": {
      "needs_background": "light"
     },
     "output_type": "display_data"
    },
    {
     "data": {
      "image/png": "[encoded data removed]",
      "text/plain": [
       "<Figure size 432x288 with 1 Axes>"
      ]
     },
     "metadata": {
      "needs_background": "light"
     },
     "output_type": "display_data"
    },
    {
     "data": {
      "image/png": "[encoded data removed]",
      "text/plain": [
       "<Figure size 432x288 with 1 Axes>"
      ]
     },
     "metadata": {
      "needs_background": "light"
     },
     "output_type": "display_data"
    },
    {
     "data": {
      "image/png": "[encoded data removed]",
      "text/plain": [
       "<Figure size 432x288 with 1 Axes>"
      ]
     },
     "metadata": {
      "needs_background": "light"
     },
     "output_type": "display_data"
    },
    {
     "data": {
      "image/png": "[encoded data removed]",
      "text/plain": [
       "<Figure size 432x288 with 1 Axes>"
      ]
     },
     "metadata": {
      "needs_background": "light"
     },
     "output_type": "display_data"
    }
   ],
   "source": [
    "# let's see the first 10 images \n",
    "for x in x_train[:10]:\n",
    "    plt.imshow(x , cmap=plt.cm.binary)\n",
    "    plt.show()"
   ]
  },
  {
   "cell_type": "markdown",
   "id": "ccd6333b",
   "metadata": {
    "papermill": {
     "duration": 0.011381,
     "end_time": "2023-02-11T08:47:16.164253",
     "exception": false,
     "start_time": "2023-02-11T08:47:16.152872",
     "status": "completed"
    },
    "tags": []
   },
   "source": [
    "## Build The Model "
   ]
  },
  {
   "cell_type": "code",
   "execution_count": 13,
   "id": "acc63e89",
   "metadata": {
    "execution": {
     "iopub.execute_input": "2023-02-11T08:47:16.185598Z",
     "iopub.status.busy": "2023-02-11T08:47:16.185059Z",
     "iopub.status.idle": "2023-02-11T08:47:57.817088Z",
     "shell.execute_reply": "2023-02-11T08:47:57.816420Z"
    },
    "papermill": {
     "duration": 41.680482,
     "end_time": "2023-02-11T08:47:57.854555",
     "exception": false,
     "start_time": "2023-02-11T08:47:16.174073",
     "status": "completed"
    },
    "tags": []
   },
   "outputs": [
    {
     "name": "stderr",
     "output_type": "stream",
     "text": [
      "2023-02-11 08:47:16.216504: I tensorflow/core/common_runtime/process_util.cc:146] Creating new thread pool with default inter op setting: 2. Tune using inter_op_parallelism_threads for best performance.\n",
      "2023-02-11 08:47:16.436941: I tensorflow/compiler/mlir/mlir_graph_optimization_pass.cc:185] None of the MLIR Optimization Passes are enabled (registered 2)\n"
     ]
    },
    {
     "name": "stdout",
     "output_type": "stream",
     "text": [
      "Epoch 1/6\n",
      "1875/1875 [==============================] - 5s 2ms/step - loss: 0.2581 - accuracy: 0.9243\n",
      "Epoch 2/6\n",
      "1875/1875 [==============================] - 4s 2ms/step - loss: 0.1076 - accuracy: 0.9667\n",
      "Epoch 3/6\n",
      "1875/1875 [==============================] - 4s 2ms/step - loss: 0.0714 - accuracy: 0.9780\n",
      "Epoch 4/6\n",
      "1875/1875 [==============================] - 4s 2ms/step - loss: 0.0536 - accuracy: 0.9830\n",
      "Epoch 5/6\n",
      "1875/1875 [==============================] - 4s 2ms/step - loss: 0.0405 - accuracy: 0.9869\n",
      "Epoch 6/6\n",
      "1875/1875 [==============================] - 4s 2ms/step - loss: 0.0311 - accuracy: 0.9893\n"
     ]
    },
    {
     "data": {
      "text/plain": [
       "<keras.callbacks.History at 0x7feaa1932450>"
      ]
     },
     "execution_count": 13,
     "metadata": {},
     "output_type": "execute_result"
    }
   ],
   "source": [
    "model = tf.keras.models.Sequential()\n",
    "\n",
    "# Input Layer\n",
    "model.add(tf.keras.layers.Flatten())\n",
    "\n",
    "# 1 hidden layer\n",
    "model.add(tf.keras.layers.Dense(128 , activation=tf.nn.relu))   # Relu\n",
    "\n",
    "\n",
    "# 2 hidden layer\n",
    "model.add(tf.keras.layers.Dense(128 , activation=tf.nn.relu)) \n",
    "\n",
    "\n",
    "# output \n",
    "model.add(tf.keras.layers.Dense(10 , activation=tf.nn.softmax)) \n",
    "\n",
    "\n",
    "# compile model \n",
    "model.compile(\n",
    "    optimizer = 'adam',\n",
    "    loss = 'sparse_categorical_crossentropy',\n",
    "    metrics = ['accuracy']\n",
    ")\n",
    "\n",
    "\n",
    "model.fit(x_train , y_train , epochs=6)"
   ]
  },
  {
   "cell_type": "markdown",
   "id": "fa7e452d",
   "metadata": {
    "papermill": {
     "duration": 0.035428,
     "end_time": "2023-02-11T08:47:57.925535",
     "exception": false,
     "start_time": "2023-02-11T08:47:57.890107",
     "status": "completed"
    },
    "tags": []
   },
   "source": [
    "## Evaluate the model "
   ]
  },
  {
   "cell_type": "code",
   "execution_count": 14,
   "id": "2cf1683b",
   "metadata": {
    "execution": {
     "iopub.execute_input": "2023-02-11T08:47:57.998060Z",
     "iopub.status.busy": "2023-02-11T08:47:57.997392Z",
     "iopub.status.idle": "2023-02-11T08:47:58.601331Z",
     "shell.execute_reply": "2023-02-11T08:47:58.599834Z"
    },
    "papermill": {
     "duration": 0.642949,
     "end_time": "2023-02-11T08:47:58.603791",
     "exception": false,
     "start_time": "2023-02-11T08:47:57.960842",
     "status": "completed"
    },
    "tags": []
   },
   "outputs": [
    {
     "name": "stdout",
     "output_type": "stream",
     "text": [
      "313/313 [==============================] - 1s 1ms/step - loss: 0.0870 - accuracy: 0.9749\n",
      "0.08702708780765533\n",
      "0.9749000072479248\n"
     ]
    }
   ],
   "source": [
    "loss , accurecy = model.evaluate(x_test , y_test)\n",
    "print(loss)\n",
    "print(accurecy)"
   ]
  },
  {
   "cell_type": "markdown",
   "id": "0b31a693",
   "metadata": {
    "papermill": {
     "duration": 0.035987,
     "end_time": "2023-02-11T08:47:58.676244",
     "exception": false,
     "start_time": "2023-02-11T08:47:58.640257",
     "status": "completed"
    },
    "tags": []
   },
   "source": [
    "- Accuracy = .97"
   ]
  },
  {
   "cell_type": "markdown",
   "id": "35f181d8",
   "metadata": {
    "papermill": {
     "duration": 0.035797,
     "end_time": "2023-02-11T08:47:58.748018",
     "exception": false,
     "start_time": "2023-02-11T08:47:58.712221",
     "status": "completed"
    },
    "tags": []
   },
   "source": [
    "## Save the Model "
   ]
  },
  {
   "cell_type": "code",
   "execution_count": 15,
   "id": "5b7d7ea4",
   "metadata": {
    "execution": {
     "iopub.execute_input": "2023-02-11T08:47:58.822580Z",
     "iopub.status.busy": "2023-02-11T08:47:58.822017Z",
     "iopub.status.idle": "2023-02-11T08:47:59.588491Z",
     "shell.execute_reply": "2023-02-11T08:47:59.587570Z"
    },
    "papermill": {
     "duration": 0.806095,
     "end_time": "2023-02-11T08:47:59.590854",
     "exception": false,
     "start_time": "2023-02-11T08:47:58.784759",
     "status": "completed"
    },
    "tags": []
   },
   "outputs": [
    {
     "name": "stderr",
     "output_type": "stream",
     "text": [
      "2023-02-11 08:47:59.061864: W tensorflow/python/util/util.cc:348] Sets are not currently considered sequences, but this may change in the future, so consider avoiding using them.\n"
     ]
    }
   ],
   "source": [
    "model.save('Number_Digits.model')"
   ]
  },
  {
   "cell_type": "markdown",
   "id": "08534296",
   "metadata": {
    "papermill": {
     "duration": 0.036273,
     "end_time": "2023-02-11T08:47:59.664182",
     "exception": false,
     "start_time": "2023-02-11T08:47:59.627909",
     "status": "completed"
    },
    "tags": []
   },
   "source": [
    "## Load the Model "
   ]
  },
  {
   "cell_type": "code",
   "execution_count": 16,
   "id": "012c7bbc",
   "metadata": {
    "execution": {
     "iopub.execute_input": "2023-02-11T08:47:59.738525Z",
     "iopub.status.busy": "2023-02-11T08:47:59.737901Z",
     "iopub.status.idle": "2023-02-11T08:47:59.955603Z",
     "shell.execute_reply": "2023-02-11T08:47:59.954643Z"
    },
    "papermill": {
     "duration": 0.257497,
     "end_time": "2023-02-11T08:47:59.957753",
     "exception": false,
     "start_time": "2023-02-11T08:47:59.700256",
     "status": "completed"
    },
    "tags": []
   },
   "outputs": [],
   "source": [
    "# load model \n",
    "loaded_model = tf.keras.models.load_model('Number_Digits.model')"
   ]
  },
  {
   "cell_type": "markdown",
   "id": "89c8fc87",
   "metadata": {
    "papermill": {
     "duration": 0.035413,
     "end_time": "2023-02-11T08:48:00.029635",
     "exception": false,
     "start_time": "2023-02-11T08:47:59.994222",
     "status": "completed"
    },
    "tags": []
   },
   "source": [
    "## Predict "
   ]
  },
  {
   "cell_type": "code",
   "execution_count": 17,
   "id": "f6ea6e97",
   "metadata": {
    "execution": {
     "iopub.execute_input": "2023-02-11T08:48:00.105080Z",
     "iopub.status.busy": "2023-02-11T08:48:00.104614Z",
     "iopub.status.idle": "2023-02-11T08:48:00.525726Z",
     "shell.execute_reply": "2023-02-11T08:48:00.524650Z"
    },
    "papermill": {
     "duration": 0.461922,
     "end_time": "2023-02-11T08:48:00.527641",
     "exception": false,
     "start_time": "2023-02-11T08:48:00.065719",
     "status": "completed"
    },
    "tags": []
   },
   "outputs": [
    {
     "data": {
      "text/plain": [
       "array([[1.3643220e-09, 1.8086675e-09, 9.1708394e-08, ..., 9.9999893e-01,\n",
       "        3.3184608e-09, 1.0689141e-08],\n",
       "       [4.5601401e-14, 1.0559036e-05, 9.9998844e-01, ..., 6.4835234e-12,\n",
       "        1.4165499e-08, 1.2931922e-16],\n",
       "       [1.4790775e-08, 9.9996984e-01, 1.3257354e-06, ..., 1.6589966e-05,\n",
       "        2.8276665e-06, 4.6815991e-09],\n",
       "       ...,\n",
       "       [5.5671344e-12, 1.0574862e-08, 4.8394172e-10, ..., 2.3459781e-07,\n",
       "        2.9958525e-08, 1.5818395e-06],\n",
       "       [1.8113083e-10, 1.6277415e-11, 6.8615107e-11, ..., 3.9881423e-10,\n",
       "        1.7598603e-04, 3.3442151e-09],\n",
       "       [1.6845657e-10, 2.5888960e-10, 7.2271845e-08, ..., 4.9720588e-15,\n",
       "        1.7551203e-07, 1.2961286e-12]], dtype=float32)"
      ]
     },
     "execution_count": 17,
     "metadata": {},
     "output_type": "execute_result"
    }
   ],
   "source": [
    "predictions = loaded_model.predict([x_test])\n",
    "predictions"
   ]
  },
  {
   "cell_type": "markdown",
   "id": "bd822d69",
   "metadata": {
    "papermill": {
     "duration": 0.035396,
     "end_time": "2023-02-11T08:48:00.598812",
     "exception": false,
     "start_time": "2023-02-11T08:48:00.563416",
     "status": "completed"
    },
    "tags": []
   },
   "source": [
    "## Test the model "
   ]
  },
  {
   "cell_type": "code",
   "execution_count": 18,
   "id": "0d24a897",
   "metadata": {
    "execution": {
     "iopub.execute_input": "2023-02-11T08:48:00.673305Z",
     "iopub.status.busy": "2023-02-11T08:48:00.672951Z",
     "iopub.status.idle": "2023-02-11T08:48:00.679258Z",
     "shell.execute_reply": "2023-02-11T08:48:00.678236Z"
    },
    "papermill": {
     "duration": 0.046536,
     "end_time": "2023-02-11T08:48:00.681603",
     "exception": false,
     "start_time": "2023-02-11T08:48:00.635067",
     "status": "completed"
    },
    "tags": []
   },
   "outputs": [
    {
     "data": {
      "text/plain": [
       "7"
      ]
     },
     "execution_count": 18,
     "metadata": {},
     "output_type": "execute_result"
    }
   ],
   "source": [
    "np.argmax(predictions[0])   # the model predicted the first value = 7"
   ]
  },
  {
   "cell_type": "code",
   "execution_count": 19,
   "id": "d5504837",
   "metadata": {
    "execution": {
     "iopub.execute_input": "2023-02-11T08:48:00.757656Z",
     "iopub.status.busy": "2023-02-11T08:48:00.755876Z",
     "iopub.status.idle": "2023-02-11T08:48:00.879919Z",
     "shell.execute_reply": "2023-02-11T08:48:00.878894Z"
    },
    "papermill": {
     "duration": 0.163509,
     "end_time": "2023-02-11T08:48:00.881855",
     "exception": false,
     "start_time": "2023-02-11T08:48:00.718346",
     "status": "completed"
    },
    "tags": []
   },
   "outputs": [
    {
     "data": {
      "image/png": "[encoded data removed]",
      "text/plain": [
       "<Figure size 432x288 with 1 Axes>"
      ]
     },
     "metadata": {
      "needs_background": "light"
     },
     "output_type": "display_data"
    }
   ],
   "source": [
    "plt.imshow(x_test[0])\n",
    "plt.show()"
   ]
  },
  {
   "cell_type": "markdown",
   "id": "465dcd83",
   "metadata": {
    "papermill": {
     "duration": 0.037571,
     "end_time": "2023-02-11T08:48:00.959533",
     "exception": false,
     "start_time": "2023-02-11T08:48:00.921962",
     "status": "completed"
    },
    "tags": []
   },
   "source": [
    "- it is 7 so the model predicted the value correctly "
   ]
  }
 ],
 "metadata": {
  "kernelspec": {
   "display_name": "Python 3",
   "language": "python",
   "name": "python3"
  },
  "language_info": {
   "codemirror_mode": {
    "name": "ipython",
    "version": 3
   },
   "file_extension": ".py",
   "mimetype": "text/x-python",
   "name": "python",
   "nbconvert_exporter": "python",
   "pygments_lexer": "ipython3",
   "version": "3.7.12"
  },
  "papermill": {
   "default_parameters": {},
   "duration": 63.942936,
   "end_time": "2023-02-11T08:48:03.932853",
   "environment_variables": {},
   "exception": null,
   "input_path": "__notebook__.ipynb",
   "output_path": "__notebook__.ipynb",
   "parameters": {},
   "start_time": "2023-02-11T08:46:59.989917",
   "version": "2.3.4"
  }
 },
 "nbformat": 4,
 "nbformat_minor": 5
}
